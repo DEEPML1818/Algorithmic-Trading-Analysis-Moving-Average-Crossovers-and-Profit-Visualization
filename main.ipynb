{
 "cells": [
  {
   "cell_type": "code",
   "execution_count": null,
   "metadata": {},
   "outputs": [],
   "source": [
    "import numpy as np\n",
    "\n",
    "import pandas as pd\n",
    "\n",
    "import matplotlib.pyplot as plt\n",
    "\n",
    "import yfinance as yf\n",
    "\n",
    "pd.set_option('mode.chained_assignment', None)\n",
    "\n",
    "ticker = \"GOOGL\"\n",
    "\n",
    "df = yf.download(ticker, start=\"2021-01-02\", end=\"2022-1-1\")\n",
    "\n",
    "df.head()\n",
    "\n",
    "df['MA10'] = df['Close'].rolling(10).mean()\n",
    "\n",
    "df['MA50'] = df['Close'].rolling(50).mean()\n",
    "\n",
    "df = df.dropna()\n",
    "\n",
    "df.head()\n",
    "\n",
    "conditions = [df['MA10'] > df['MA50'], \n",
    "                        df['MA10'] < df['MA50']]\n",
    "\n",
    "choices = [1, 0]\n",
    "\n",
    "df['Position']= np.select(conditions, choices)\n",
    "\n",
    "df.head()\n",
    "\n",
    "df['Close_Next'] = df['Close'].shift(-1)\n",
    "\n",
    "df['Profit'] = [df.loc[i, 'Close_Next'] - df.loc[i, 'Close'] if df.loc[i, 'Position']==1 else 0 for i in df.index]\n",
    "\n",
    "df['Profit'].plot()\n",
    "\n",
    "plt.axhline(y=0, color='red')\n",
    "\n",
    "df['Cum_Profit'] = df['Profit'].cumsum()\n",
    "\n",
    "df['Cum_Profit'].plot()\n",
    "\n"
   ]
  }
 ],
 "metadata": {
  "kernelspec": {
   "display_name": "Python 3",
   "language": "python",
   "name": "python3"
  },
  "language_info": {
   "name": "python",
   "version": "3.9.13 (tags/v3.9.13:6de2ca5, May 17 2022, 16:36:42) [MSC v.1929 64 bit (AMD64)]"
  },
  "orig_nbformat": 4,
  "vscode": {
   "interpreter": {
    "hash": "b632dcc83ff5927942d6d9ce4967f5155bb6ecfd8a74c01d0bb5eeb3cc54d9f0"
   }
  }
 },
 "nbformat": 4,
 "nbformat_minor": 2
}
